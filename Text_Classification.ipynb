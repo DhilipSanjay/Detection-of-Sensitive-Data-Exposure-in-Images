{
  "nbformat": 4,
  "nbformat_minor": 0,
  "metadata": {
    "colab": {
      "name": "Text_Classification.ipynb",
      "provenance": [],
      "collapsed_sections": [],
      "authorship_tag": "ABX9TyMcoH+PO8/zX0RqDgkKWiO3",
      "include_colab_link": true
    },
    "kernelspec": {
      "name": "python3",
      "display_name": "Python 3"
    },
    "language_info": {
      "name": "python"
    }
  },
  "cells": [
    {
      "cell_type": "markdown",
      "metadata": {
        "id": "view-in-github",
        "colab_type": "text"
      },
      "source": [
        "<a href=\"https://colab.research.google.com/github/DhilipSanjay/Detection-of-Sensitive-Data-Exposure-in-Images/blob/main/Text_Classification.ipynb\" target=\"_parent\"><img src=\"https://colab.research.google.com/assets/colab-badge.svg\" alt=\"Open In Colab\"/></a>"
      ]
    },
    {
      "cell_type": "markdown",
      "metadata": {
        "id": "sM59X-o79RgC"
      },
      "source": [
        "# Text Classification to detect sensitive data exposure\n",
        "\n",
        "## Importing libraries and downloading the dataset"
      ]
    },
    {
      "cell_type": "code",
      "metadata": {
        "id": "leaIgZqWI9HX",
        "colab": {
          "base_uri": "https://localhost:8080/"
        },
        "outputId": "70d435a6-1a95-4735-bd60-858f2a1199ed"
      },
      "source": [
        "# Importing the necessary libraries\n",
        "import tensorflow as tf\n",
        "import json\n",
        "import os\n",
        "import random\n",
        "\n",
        "from tensorflow.keras.preprocessing.text import Tokenizer\n",
        "from tensorflow.keras.preprocessing.sequence import pad_sequences\n",
        "\n",
        "# Downloading the dataset\n",
        "git_folder = \"/content/Detection-of-Sensitive-Data-Exposure-in-Images\"\n",
        "if os.path.exists(git_folder) == False:\n",
        "  !git clone https://github.com/DhilipSanjay/Detection-of-Sensitive-Data-Exposure-in-Images.git\n",
        "\n",
        "dataset_folder = git_folder + \"/text_dataset/\"\n",
        "sensitive_datafile = \"SensitiveDataset.json\"\n",
        "nonsensitive_datafile = \"NonSensitiveDataset.json\""
      ],
      "execution_count": 1,
      "outputs": [
        {
          "output_type": "stream",
          "text": [
            "Cloning into 'Detection-of-Sensitive-Data-Exposure-in-Images'...\n",
            "remote: Enumerating objects: 305, done.\u001b[K\n",
            "remote: Counting objects: 100% (305/305), done.\u001b[K\n",
            "remote: Compressing objects: 100% (205/205), done.\u001b[K\n",
            "remote: Total 1031 (delta 103), reused 298 (delta 96), pack-reused 726\u001b[K\n",
            "Receiving objects: 100% (1031/1031), 235.51 MiB | 34.48 MiB/s, done.\n",
            "Resolving deltas: 100% (114/114), done.\n",
            "Checking out files: 100% (736/736), done.\n"
          ],
          "name": "stdout"
        }
      ]
    },
    {
      "cell_type": "code",
      "metadata": {
        "id": "h_o7FrN_Jgr1"
      },
      "source": [
        "# Necessary Variables\n",
        "vocab_size = 3000\n",
        "embedding_dim = 32\n",
        "max_length = 60\n",
        "truncation_type='post'\n",
        "padding_type='post'\n",
        "oov_tok = \"<OOV>\"\n",
        "training_size = 20000"
      ],
      "execution_count": 2,
      "outputs": []
    },
    {
      "cell_type": "markdown",
      "metadata": {
        "id": "7i3YvPoe9ZaT"
      },
      "source": [
        "## Preprocessing the dataset"
      ]
    },
    {
      "cell_type": "code",
      "metadata": {
        "colab": {
          "base_uri": "https://localhost:8080/"
        },
        "id": "vIUEAZOfJyy-",
        "outputId": "91c05886-e361-4a64-8bee-03a34dd84b43"
      },
      "source": [
        "dataList = []\n",
        "sentences = []\n",
        "labels = []\n",
        "# Stopwords should be removed or excluded from the given text so that more \n",
        "# focus can be given to those words which define the meaning of the text.\n",
        "stopwords = [ \"a\", \"about\", \"above\", \"after\", \"again\", \"against\", \"all\", \"am\", \"an\", \"and\", \"any\", \"are\", \"as\", \"at\", \"be\", \"because\", \"been\", \"before\", \"being\", \"below\", \"between\", \"both\", \"but\", \"by\", \"could\", \"did\", \"do\", \"does\", \"doing\", \"down\", \"during\", \"each\", \"few\", \"for\", \"from\", \"further\", \"had\", \"has\", \"have\", \"having\", \"he\", \"he'd\", \"he'll\", \"he's\", \"her\", \"here\", \"here's\", \"hers\", \"herself\", \"him\", \"himself\", \"his\", \"how\", \"how's\", \"i\", \"i'd\", \"i'll\", \"i'm\", \"i've\", \"if\", \"in\", \"into\", \"is\", \"it\", \"it's\", \"its\", \"itself\", \"let's\", \"me\", \"more\", \"most\", \"my\", \"myself\", \"nor\", \"of\", \"on\", \"once\", \"only\", \"or\", \"other\", \"ought\", \"our\", \"ours\", \"ourselves\", \"out\", \"over\", \"own\", \"same\", \"she\", \"she'd\", \"she'll\", \"she's\", \"should\", \"so\", \"some\", \"such\", \"than\", \"that\", \"that's\", \"the\", \"their\", \"theirs\", \"them\", \"themselves\", \"then\", \"there\", \"there's\", \"these\", \"they\", \"they'd\", \"they'll\", \"they're\", \"they've\", \"this\", \"those\", \"through\", \"to\", \"too\", \"under\", \"until\", \"up\", \"very\", \"was\", \"we\", \"we'd\", \"we'll\", \"we're\", \"we've\", \"were\", \"what\", \"what's\", \"when\", \"when's\", \"where\", \"where's\", \"which\", \"while\", \"who\", \"who's\", \"whom\", \"why\", \"why's\", \"with\", \"would\", \"you\", \"you'd\", \"you'll\", \"you're\", \"you've\", \"your\", \"yours\", \"yourself\", \"yourselves\" ]\n",
        "\n",
        "def loadDataset(filename):\n",
        "  with open(dataset_folder + filename, 'r') as f:\n",
        "      datastore = json.load(f)\n",
        "  for item in datastore:\n",
        "    sentence = item['data']\n",
        "    label = item['is_sensitive']\n",
        "    for word in stopwords: #Remove stop words in sentence\n",
        "      token = \" \" + word + \" \"\n",
        "      sentence = sentence.replace(token, \" \")\n",
        "    dataList.append([sentence, label])\n",
        "\n",
        "# Loading both sensitive and non-sensitive dataset\n",
        "loadDataset(sensitive_datafile)\n",
        "loadDataset(nonsensitive_datafile)\n",
        "\n",
        "# Shuffling the dataset randomly\n",
        "random.shuffle(dataList)\n",
        "\n",
        "# Dataset size: 31500 (approx)\n",
        "print(\"Dataset Size: \", len(dataList))\n",
        "\n",
        "# Dataset has both sentences and labels\n",
        "for item in dataList:\n",
        "  sentences.append(item[0])\n",
        "  labels.append(item[1])\n",
        "\n",
        "# Splitting up the total dataset\n",
        "# Training size = 20000\n",
        "# Validation size = 11500 (approx)\n",
        "training_sentences = sentences[0:training_size]\n",
        "validation_sentences = sentences[training_size:]\n",
        "training_labels = labels[0:training_size]\n",
        "validation_labels = labels[training_size:]\n",
        "\n",
        "print(\"Training Dataset Size: \", len(training_sentences))\n",
        "print(\"Sample Training Data:\", training_sentences[0])\n",
        "print(\"Validation Dataset Size: \", len(validation_sentences))\n",
        "print(\"Sample Validation Data:\", validation_sentences[0])"
      ],
      "execution_count": 3,
      "outputs": [
        {
          "output_type": "stream",
          "text": [
            "Dataset Size:  31576\n",
            "Training Dataset Size:  20000\n",
            "Sample Training Data: Chuck, formerly successful stockbroker, found refuge ulcer-inducing Wall Street rat race job attendant New York City morgue. His displeasure \"promoted\" Night Shift Supervisor make room boss's nephew exacerbated irrational exuberance Bill \"Blaze\" Blazejowski, new co-worker. They inspired plight Chuck's prostitute neighbor, Belinda, apply Chuck's financial acumen Bill's entrepreneurial spirit open prostitution service headquartered morgue.\n",
            "Chuck falls love Belinda, relationship becomes complicated Belinda refuses quit prostitution. Chuck's passiveness keeps telling Belinda loves her. Meanwhile, Chuck Bill's foray prostitution business draws ire dangerous pimps come morgue threaten kill Chuck. Bill inadvertently leads undercover cops morgue Chuck assaulted pimps. A shootout ensues. Chuck Bill rescued, arrested promoting prostitution. Because arrest political embarrassment, guys offered old jobs back dismissal charges. Chuck accepts this, Bill sees opportunity bargain mayor's office. Chuck Bill fight part ways. Chuck's fiancée breaks him.\n",
            "Chuck sees Belinda hall apartment complex, fails express true feelings her. Belinda leaves, Chuck becomes angry afraid. With renewed determination, Chuck finds Belinda working adult club professes love her. He also finds Bill employed there. The three leave club together go town.\n",
            "Validation Dataset Size:  11576\n",
            "Sample Validation Data: After frustrating day hunting Canada left group combat veterans empty-handed, hunting party comes river. Another band hunters appears side, stares down.\n",
            "Suddenly gun goes off, Zeke retaliates shooting killing one men riverbank. After exchange gunfire, Major Rex friends win skirmish, driving group off.\n",
            "Deciding keep incident secret police, round posse friends pursue hunters woods bloody mini-war Lou questions.\n"
          ],
          "name": "stdout"
        }
      ]
    },
    {
      "cell_type": "code",
      "metadata": {
        "id": "Kt01OaiEMbQ9",
        "colab": {
          "base_uri": "https://localhost:8080/"
        },
        "outputId": "c03c713c-6a9b-4b35-ea31-f65d345bba61"
      },
      "source": [
        "# Tokenizer takes the num_words (here vocab_size = 3000) maximum occuring unique words from the dataset.\n",
        "# Anything out of these words will be treated as Out of Vocabulary(<oov>)\n",
        "# It strips the punctutations and removes upper-case letters.\n",
        "tokenizer = Tokenizer(num_words=vocab_size, oov_token=oov_tok)\n",
        "\n",
        "# Apply the tokenizer on training sentences and generate the word index\n",
        "# Eg: word_index[\"the\"] = 1; word_index[\"cat\"] = 2; etc.\n",
        "tokenizer.fit_on_texts(training_sentences)\n",
        "\n",
        "# Save the word index (Used for deploying in web application)\n",
        "word_index = tokenizer.word_index\n",
        "print(\"Size of word index:\", len(word_index))\n",
        "\n",
        "with open(\"word_index.json\", \"w\") as outfile:  \n",
        "    json.dump(word_index, outfile)\n",
        "    print(\"Saving the word index as JSON\")\n",
        "\n",
        "# Transforms each word in sentences to a sequence of integers based on the word_index\n",
        "training_sequences = tokenizer.texts_to_sequences(training_sentences)\n",
        "# To feed the text into neural network - sentences must be of the same length. Hence we'll be using padding.\n",
        "# If the sentences are smaller than the maxlen, then we'll pad (Here, we are using post padding)\n",
        "# If the sentences are larger than the maxlen, then we'll truncate (Here, we are using post truncation)\n",
        "training_padded = pad_sequences(training_sequences, maxlen=max_length, padding=padding_type, truncating=truncation_type)\n",
        "\n",
        "# Apply the same for validation data\n",
        "validation_sequences = tokenizer.texts_to_sequences(validation_sentences)\n",
        "validation_padded = pad_sequences(validation_sequences, maxlen=max_length, padding=padding_type, truncating=truncation_type)"
      ],
      "execution_count": 4,
      "outputs": [
        {
          "output_type": "stream",
          "text": [
            "Size of word index: 102652\n",
            "Saving the word index as JSON\n"
          ],
          "name": "stdout"
        }
      ]
    },
    {
      "cell_type": "code",
      "metadata": {
        "id": "SSHwIoCLPKPq"
      },
      "source": [
        "# Convert to Numpy arrays, so as to get it to work with TensorFlow 2.x\n",
        "import numpy as np\n",
        "training_padded = np.array(training_padded)\n",
        "training_labels = np.array(training_labels)\n",
        "validation_padded = np.array(validation_padded)\n",
        "validation_labels = np.array(validation_labels)"
      ],
      "execution_count": 5,
      "outputs": []
    },
    {
      "cell_type": "markdown",
      "metadata": {
        "id": "9OLtjmJw9ehH"
      },
      "source": [
        "## Model"
      ]
    },
    {
      "cell_type": "code",
      "metadata": {
        "colab": {
          "base_uri": "https://localhost:8080/"
        },
        "id": "p5ADD9CuNFWB",
        "outputId": "7cf5a76d-b9fc-4268-b85c-588ba8ba18ea"
      },
      "source": [
        "# Callbacks to cancel training after reaching a desired accuracy\n",
        "# This is done to avoid overfitting\n",
        "DESIRED_ACCURACY = 0.999\n",
        "class myCallback(tf.keras.callbacks.Callback):\n",
        "  def on_epoch_end(self, epoch, logs={}):\n",
        "    if logs.get('accuracy') > DESIRED_ACCURACY:\n",
        "      print(\"Reached 99.9% accuracy so cancelling training!\")\n",
        "      self.model.stop_training = True\n",
        "\n",
        "callbacks = myCallback()\n",
        "\n",
        "# Sequential - defines a SEQUENCE of layers in the neural network.\n",
        "model = tf.keras.Sequential([\n",
        "    # Embedding - Turns positive integers (indexes) into dense vectors of fixed size (here embedding_dim = 32).\n",
        "    tf.keras.layers.Embedding(vocab_size, embedding_dim, input_length=max_length),\n",
        "    # 1D convolution layer - filter size = 128, convolution window = 5, activation fn = ReLU\n",
        "    tf.keras.layers.Conv1D(64, 5, activation='relu'),\n",
        "    # Global average pooling operation (Flattening)\n",
        "    tf.keras.layers.GlobalAveragePooling1D(),\n",
        "    # Regular densely-connected Neural Network layer with ReLU activation function.\n",
        "    tf.keras.layers.Dense(24, activation='relu'),\n",
        "    # Regular densely-connected Neural Network layer with sigmoid activation function.\n",
        "    tf.keras.layers.Dense(1, activation='sigmoid')\n",
        "])\n",
        "\n",
        "# model.compile - Configures the model for training.\n",
        "model.compile(loss='binary_crossentropy',optimizer='adam',metrics=['accuracy'])\n",
        "# Adam -  optimization algorithm used instead of the classical stochastic gradient descent procedure to update network weights.\n",
        "\n",
        "# Display the summary of the model\n",
        "model.summary()"
      ],
      "execution_count": 6,
      "outputs": [
        {
          "output_type": "stream",
          "text": [
            "Model: \"sequential\"\n",
            "_________________________________________________________________\n",
            "Layer (type)                 Output Shape              Param #   \n",
            "=================================================================\n",
            "embedding (Embedding)        (None, 60, 32)            96000     \n",
            "_________________________________________________________________\n",
            "conv1d (Conv1D)              (None, 56, 64)            10304     \n",
            "_________________________________________________________________\n",
            "global_average_pooling1d (Gl (None, 64)                0         \n",
            "_________________________________________________________________\n",
            "dense (Dense)                (None, 24)                1560      \n",
            "_________________________________________________________________\n",
            "dense_1 (Dense)              (None, 1)                 25        \n",
            "=================================================================\n",
            "Total params: 107,889\n",
            "Trainable params: 107,889\n",
            "Non-trainable params: 0\n",
            "_________________________________________________________________\n"
          ],
          "name": "stdout"
        }
      ]
    },
    {
      "cell_type": "markdown",
      "metadata": {
        "id": "mb2NlD159g8k"
      },
      "source": [
        "## Training"
      ]
    },
    {
      "cell_type": "code",
      "metadata": {
        "colab": {
          "base_uri": "https://localhost:8080/"
        },
        "id": "7TP5ThxvNPK8",
        "outputId": "1db2817f-845e-4340-f404-df4edfd414ae"
      },
      "source": [
        "num_epochs = 6\n",
        "\n",
        "# model.fit - Train the model for a fixed number of epochs\n",
        "history = model.fit(training_padded, \n",
        "                    training_labels, \n",
        "                    epochs=num_epochs, \n",
        "                    validation_data=(\n",
        "                        validation_padded, \n",
        "                        validation_labels), \n",
        "                    verbose=1)\n",
        "                    #callbacks=[callbacks])"
      ],
      "execution_count": 7,
      "outputs": [
        {
          "output_type": "stream",
          "text": [
            "Epoch 1/6\n",
            "625/625 [==============================] - 6s 9ms/step - loss: 0.1748 - accuracy: 0.9814 - val_loss: 0.0037 - val_accuracy: 0.9989\n",
            "Epoch 2/6\n",
            "625/625 [==============================] - 5s 8ms/step - loss: 0.0025 - accuracy: 0.9992 - val_loss: 0.0017 - val_accuracy: 0.9994\n",
            "Epoch 3/6\n",
            "625/625 [==============================] - 5s 8ms/step - loss: 8.0982e-04 - accuracy: 0.9998 - val_loss: 0.0012 - val_accuracy: 0.9998\n",
            "Epoch 4/6\n",
            "625/625 [==============================] - 5s 8ms/step - loss: 4.3107e-04 - accuracy: 0.9999 - val_loss: 0.0017 - val_accuracy: 0.9994\n",
            "Epoch 5/6\n",
            "625/625 [==============================] - 5s 8ms/step - loss: 3.6006e-04 - accuracy: 1.0000 - val_loss: 0.0013 - val_accuracy: 0.9996\n",
            "Epoch 6/6\n",
            "625/625 [==============================] - 5s 8ms/step - loss: 8.9253e-04 - accuracy: 0.9999 - val_loss: 0.0014 - val_accuracy: 0.9995\n"
          ],
          "name": "stdout"
        }
      ]
    },
    {
      "cell_type": "markdown",
      "metadata": {
        "id": "poN5h1SD9tiE"
      },
      "source": [
        "## Plotting Accuracy and Loss Functions"
      ]
    },
    {
      "cell_type": "code",
      "metadata": {
        "colab": {
          "base_uri": "https://localhost:8080/",
          "height": 542
        },
        "id": "WCDbITWsNWlI",
        "outputId": "b96fcbf4-f236-4f22-a4c4-84e157cca63c"
      },
      "source": [
        "import matplotlib.pyplot as plt\n",
        "\n",
        "# Plot the accuracy and loss functions\n",
        "def plot_graphs(history, string):\n",
        "  plt.plot(history.history[string])\n",
        "  plt.plot(history.history['val_'+string])\n",
        "  plt.xlabel(\"Epochs\")\n",
        "  plt.ylabel(string)\n",
        "  plt.legend([string, 'val_'+string])\n",
        "  plt.show()\n",
        "  \n",
        "plot_graphs(history, \"accuracy\")\n",
        "plot_graphs(history, \"loss\")"
      ],
      "execution_count": 8,
      "outputs": [
        {
          "output_type": "display_data",
          "data": {
            "image/png": "[encoded data removed]",
            "text/plain": [
              "<Figure size 432x288 with 1 Axes>"
            ]
          },
          "metadata": {
            "tags": [],
            "needs_background": "light"
          }
        },
        {
          "output_type": "display_data",
          "data": {
            "image/png": "[encoded data removed]",
            "text/plain": [
              "<Figure size 432x288 with 1 Axes>"
            ]
          },
          "metadata": {
            "tags": [],
            "needs_background": "light"
          }
        }
      ]
    },
    {
      "cell_type": "markdown",
      "metadata": {
        "id": "z9ymTQswYUQz"
      },
      "source": [
        "## Confusion Matrix"
      ]
    },
    {
      "cell_type": "code",
      "metadata": {
        "colab": {
          "base_uri": "https://localhost:8080/",
          "height": 1000
        },
        "id": "tVdCGN-tYXqX",
        "outputId": "fe0a7ff2-cfaf-41a3-a15d-1fbffa53dfa0"
      },
      "source": [
        "import seaborn\n",
        "print('Confusion Matrix')\n",
        "y_predicted = model.predict(validation_padded)\n",
        "y_predicted_labels = y_predicted > 0.5\n",
        "\n",
        "size = np.size(y_predicted_labels)\n",
        "y_predicted_labels = y_predicted_labels.reshape(size, )\n",
        "\n",
        "for i in range (1, 5):\n",
        "  end = i * size // 4\n",
        "  cm = tf.math.confusion_matrix(labels=validation_labels[0:end],predictions=y_predicted_labels[0:end])\n",
        "\n",
        "  # Calculate accuracy\n",
        "  cm_np = cm.numpy()\n",
        "  conf_acc = (cm_np[0, 0] + cm_np[1, 1])/ np.sum(cm_np) * 100\n",
        "  print(\"Accuracy = \", conf_acc)\n",
        "\n",
        "  # Plot the confusion matrix\n",
        "  plt.figure(figsize = (10,7))\n",
        "  seaborn.heatmap(cm, annot=True, fmt='d')\n",
        "  plt.xlabel('Predicted')\n",
        "  plt.ylabel('Expected')"
      ],
      "execution_count": 34,
      "outputs": [
        {
          "output_type": "stream",
          "text": [
            "Confusion Matrix\n",
            "Accuracy =  99.93089149965446\n",
            "Accuracy =  99.94816862474084\n",
            "Accuracy =  99.9539276664363\n",
            "Accuracy =  99.94816862474084\n"
          ],
          "name": "stdout"
        },
        {
          "output_type": "display_data",
          "data": {
            "image/png": "[encoded data removed]",
            "text/plain": [
              "<Figure size 720x504 with 2 Axes>"
            ]
          },
          "metadata": {
            "tags": [],
            "needs_background": "light"
          }
        },
        {
          "output_type": "display_data",
          "data": {
            "image/png": "[encoded data removed]",
            "text/plain": [
              "<Figure size 720x504 with 2 Axes>"
            ]
          },
          "metadata": {
            "tags": [],
            "needs_background": "light"
          }
        },
        {
          "output_type": "display_data",
          "data": {
            "image/png": "[encoded data removed]",
            "text/plain": [
              "<Figure size 720x504 with 2 Axes>"
            ]
          },
          "metadata": {
            "tags": [],
            "needs_background": "light"
          }
        },
        {
          "output_type": "display_data",
          "data": {
            "image/png": "[encoded data removed]",
            "text/plain": [
              "<Figure size 720x504 with 2 Axes>"
            ]
          },
          "metadata": {
            "tags": [],
            "needs_background": "light"
          }
        }
      ]
    },
    {
      "cell_type": "markdown",
      "metadata": {
        "id": "f94fRNNo-386"
      },
      "source": [
        "## Saving the model"
      ]
    },
    {
      "cell_type": "code",
      "metadata": {
        "colab": {
          "base_uri": "https://localhost:8080/"
        },
        "id": "F_rBTIVTQHow",
        "outputId": "0f7565ac-7726-4213-df4b-13251ef118a3"
      },
      "source": [
        "# Save and convert the model (Used for deploying in web application)\n",
        "model.save('model/text_model.h5')\n",
        "print(\"Saved the model successfully\")\n",
        "\n",
        "!apt-get -qq install virtualenv\n",
        "!virtualenv -p python3 venv\n",
        "!source venv/bin/activate\n",
        "!pip install -q tensorflowjs\n",
        "!tensorflowjs_converter --input_format=keras /content/model/text_model.h5 /content/text_model\n",
        "print(\"Model converted to JSON successfully\")"
      ],
      "execution_count": 13,
      "outputs": [
        {
          "output_type": "stream",
          "text": [
            "Saved the model successfully\n",
            "Selecting previously unselected package python-pip-whl.\n",
            "(Reading database ... 160983 files and directories currently installed.)\n",
            "Preparing to unpack .../python-pip-whl_9.0.1-2.3~ubuntu1.18.04.4_all.deb ...\n",
            "Unpacking python-pip-whl (9.0.1-2.3~ubuntu1.18.04.4) ...\n",
            "Selecting previously unselected package python3-pkg-resources.\n",
            "Preparing to unpack .../python3-pkg-resources_39.0.1-2_all.deb ...\n",
            "Unpacking python3-pkg-resources (39.0.1-2) ...\n",
            "Selecting previously unselected package python3-virtualenv.\n",
            "Preparing to unpack .../python3-virtualenv_15.1.0+ds-1.1_all.deb ...\n",
            "Unpacking python3-virtualenv (15.1.0+ds-1.1) ...\n",
            "Selecting previously unselected package virtualenv.\n",
            "Preparing to unpack .../virtualenv_15.1.0+ds-1.1_all.deb ...\n",
            "Unpacking virtualenv (15.1.0+ds-1.1) ...\n",
            "Setting up python-pip-whl (9.0.1-2.3~ubuntu1.18.04.4) ...\n",
            "Setting up python3-pkg-resources (39.0.1-2) ...\n",
            "Setting up python3-virtualenv (15.1.0+ds-1.1) ...\n",
            "Setting up virtualenv (15.1.0+ds-1.1) ...\n",
            "Processing triggers for man-db (2.8.3-2ubuntu0.1) ...\n",
            "Already using interpreter /usr/bin/python3\n",
            "Using base prefix '/usr'\n",
            "New python executable in /content/venv/bin/python3\n",
            "Also creating executable in /content/venv/bin/python\n",
            "Installing setuptools, pkg_resources, pip, wheel...done.\n",
            "\u001b[K     |████████████████████████████████| 71kB 6.4MB/s \n",
            "\u001b[K     |████████████████████████████████| 112kB 34.1MB/s \n",
            "\u001b[?25h2021-04-12 14:15:11.168849: I tensorflow/stream_executor/platform/default/dso_loader.cc:49] Successfully opened dynamic library libcudart.so.11.0\n",
            "Model converted to JSON successfully\n"
          ],
          "name": "stdout"
        }
      ]
    },
    {
      "cell_type": "markdown",
      "metadata": {
        "id": "plgECuQc9wdt"
      },
      "source": [
        "## Sample Example"
      ]
    },
    {
      "cell_type": "code",
      "metadata": {
        "colab": {
          "base_uri": "https://localhost:8080/"
        },
        "id": "Kyfb-NtpNV7h",
        "outputId": "05c0b5d9-457a-48eb-d1d9-414adf34007c"
      },
      "source": [
        "# Sample examples\n",
        "sentence = [\"My credit card no is 124345346\", \"game of thrones season finale showing this sunday night\"]\n",
        "sequences = tokenizer.texts_to_sequences(sentence)\n",
        "padded = pad_sequences(sequences, maxlen=max_length, padding=padding_type, truncating=truncation_type)\n",
        "predictions = model.predict(padded)\n",
        "for i in range(len(predictions)):\n",
        "  print(predictions[i][0])\n",
        "  if predictions[i][0]>0.5:\n",
        "    print(\"Sensitive - \"+ sentence[i])\n",
        "  else:\n",
        "    print(\"Non-Sensitive - \" + sentence[i] )"
      ],
      "execution_count": 14,
      "outputs": [
        {
          "output_type": "stream",
          "text": [
            "0.9997549\n",
            "Sensitive - My credit card no is 124345346\n",
            "0.24462655\n",
            "Non-Sensitive - game of thrones season finale showing this sunday night\n"
          ],
          "name": "stdout"
        }
      ]
    }
  ]
}