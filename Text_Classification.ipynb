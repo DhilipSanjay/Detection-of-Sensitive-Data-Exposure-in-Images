{
  "nbformat": 4,
  "nbformat_minor": 0,
  "metadata": {
    "colab": {
      "name": "Text_Classification.ipynb",
      "provenance": [],
      "collapsed_sections": [],
      "authorship_tag": "ABX9TyPn2YNRZtpOhFss9Wd0wnjQ",
      "include_colab_link": true
    },
    "kernelspec": {
      "name": "python3",
      "display_name": "Python 3"
    },
    "language_info": {
      "name": "python"
    }
  },
  "cells": [
    {
      "cell_type": "markdown",
      "metadata": {
        "id": "view-in-github",
        "colab_type": "text"
      },
      "source": [
        "<a href=\"https://colab.research.google.com/github/DhilipSanjay/Detection-of-Sensitive-Data-Exposure-in-Images/blob/main/Text_Classification.ipynb\" target=\"_parent\"><img src=\"https://colab.research.google.com/assets/colab-badge.svg\" alt=\"Open In Colab\"/></a>"
      ]
    },
    {
      "cell_type": "code",
      "metadata": {
        "id": "leaIgZqWI9HX"
      },
      "source": [
        "import tensorflow as tf\n",
        "import json\n",
        "import os\n",
        "import random\n",
        "\n",
        "from tensorflow.keras.preprocessing.text import Tokenizer\n",
        "from tensorflow.keras.preprocessing.sequence import pad_sequences\n",
        "\n",
        "git_folder = \"/content/Detection-of-Sensitive-Data-Exposure-in-Images\"\n",
        "if os.path.exists(git_folder) == False:\n",
        "  !git clone https://github.com/DhilipSanjay/Detection-of-Sensitive-Data-Exposure-in-Images.git\n",
        "\n",
        "dataset_folder = git_folder + \"/text_dataset/\"\n",
        "sensitive_datafile = \"SensitiveDataset.json\"\n",
        "nonsensitive_datafile = \"NonSensitiveDataset.json\""
      ],
      "execution_count": 30,
      "outputs": []
    },
    {
      "cell_type": "code",
      "metadata": {
        "id": "h_o7FrN_Jgr1"
      },
      "source": [
        "vocab_size = 3000\n",
        "embedding_dim = 32\n",
        "max_length = 60\n",
        "truncation_type='post'\n",
        "padding_type='post'\n",
        "oov_tok = \"<OOV>\"\n",
        "training_size = 20000"
      ],
      "execution_count": 31,
      "outputs": []
    },
    {
      "cell_type": "code",
      "metadata": {
        "colab": {
          "base_uri": "https://localhost:8080/"
        },
        "id": "vIUEAZOfJyy-",
        "outputId": "bf34cb91-5177-411d-9c2f-502bef9da6e4"
      },
      "source": [
        "dataList = []\n",
        "sentences = []\n",
        "labels = []\n",
        "stopwords = [ \"a\", \"about\", \"above\", \"after\", \"again\", \"against\", \"all\", \"am\", \"an\", \"and\", \"any\", \"are\", \"as\", \"at\", \"be\", \"because\", \"been\", \"before\", \"being\", \"below\", \"between\", \"both\", \"but\", \"by\", \"could\", \"did\", \"do\", \"does\", \"doing\", \"down\", \"during\", \"each\", \"few\", \"for\", \"from\", \"further\", \"had\", \"has\", \"have\", \"having\", \"he\", \"he'd\", \"he'll\", \"he's\", \"her\", \"here\", \"here's\", \"hers\", \"herself\", \"him\", \"himself\", \"his\", \"how\", \"how's\", \"i\", \"i'd\", \"i'll\", \"i'm\", \"i've\", \"if\", \"in\", \"into\", \"is\", \"it\", \"it's\", \"its\", \"itself\", \"let's\", \"me\", \"more\", \"most\", \"my\", \"myself\", \"nor\", \"of\", \"on\", \"once\", \"only\", \"or\", \"other\", \"ought\", \"our\", \"ours\", \"ourselves\", \"out\", \"over\", \"own\", \"same\", \"she\", \"she'd\", \"she'll\", \"she's\", \"should\", \"so\", \"some\", \"such\", \"than\", \"that\", \"that's\", \"the\", \"their\", \"theirs\", \"them\", \"themselves\", \"then\", \"there\", \"there's\", \"these\", \"they\", \"they'd\", \"they'll\", \"they're\", \"they've\", \"this\", \"those\", \"through\", \"to\", \"too\", \"under\", \"until\", \"up\", \"very\", \"was\", \"we\", \"we'd\", \"we'll\", \"we're\", \"we've\", \"were\", \"what\", \"what's\", \"when\", \"when's\", \"where\", \"where's\", \"which\", \"while\", \"who\", \"who's\", \"whom\", \"why\", \"why's\", \"with\", \"would\", \"you\", \"you'd\", \"you'll\", \"you're\", \"you've\", \"your\", \"yours\", \"yourself\", \"yourselves\" ]\n",
        "\n",
        "def loadDataset(filename):\n",
        "  with open(dataset_folder + filename, 'r') as f:\n",
        "      datastore = json.load(f)\n",
        "  for item in datastore:\n",
        "    sentence = item['data']\n",
        "    label = item['is_sensitive']\n",
        "    for word in stopwords: #Remove stop words in sentence\n",
        "      token = \" \" + word + \" \"\n",
        "      sentence = sentence.replace(token, \" \")\n",
        "    dataList.append([sentence, label])\n",
        "\n",
        "loadDataset(sensitive_datafile)\n",
        "loadDataset(nonsensitive_datafile)\n",
        "\n",
        "random.shuffle(dataList)\n",
        "print(\"Dataset Size: \", len(dataList))\n",
        "\n",
        "for item in dataList:\n",
        "  sentences.append(item[0])\n",
        "  labels.append(item[1])\n",
        "\n",
        "training_sentences = sentences[0:training_size]\n",
        "testing_sentences = sentences[training_size:]\n",
        "training_labels = labels[0:training_size]\n",
        "testing_labels = labels[training_size:]\n",
        "\n",
        "print(\"Training Dataset Size: \", len(training_sentences))\n",
        "print(\"Sample Training Data:\", training_sentences[0])\n",
        "print(\"Testing Dataset Size: \", len(testing_sentences))\n",
        "print(\"Sample Training Data:\", testing_sentences[0])"
      ],
      "execution_count": 32,
      "outputs": [
        {
          "output_type": "stream",
          "text": [
            "Dataset Size:  31576\n",
            "Training Dataset Size:  20000\n",
            "Sample Training Data: Following wedding daughter Kay (Elizabeth Taylor), Stanley T. Banks (Spencer Tracy), suburban lawyer, recalls day, three months earlier, first learned Kay's engagement Buckley Dunstan (Don Taylor). At family dinner table, Kay's casual announcement love Buckley accepted proposal makes Stanley feel uneasy, soon comes realize daughter grown wedding inevitable. While Ellie (Joan Bennett), Kay's mother, immediately begins making preparations wedding, Stanley lies awake night, fearing worst daughter.\n",
            "Stanley's misgivings marriage eventually make Ellie anxious, insists Kay introduce Buckley's parents. Kay calls tradition \"old-fashioned rigamarole,\" arranges meeting nevertheless. Before introduction, Stanley private conversation Buckley, pleased learn young man head small company capable providing comfortable life Kay. The Bankses' first meeting Doris Herbert, Buckley's parents, gets off awkward start, goes bad worse Stanley drinks much falls asleep wealthy Dunstans' living room.\n",
            "Following Kay Buckley's engagement party, Stanley, misses entire party kitchen mixing drinks, realizes plans small wedding swept aside will expected pay extravagant wedding \"with trimmings.\" As costs June event spiral control, Stanley calculates can afford accommodate no one hundred fifty guests. The task paring guest list proves difficult, however, Stanley reluctantly consents 250-person reception. To save costs, Stanley suggests Kay Buckley elope. Kay first shocked suggestion, reconsiders, supports idea, conveys mother. Ellie strongly disapproves eloping causes Stanley express disapproval too, making appear idea originally Kay's.\n",
            "The plans lavish wedding continue day Buckley tells Kay wants take fishing trip Nova Scotia honeymoon. Kay reacts announcement shock calls off wedding, Buckley soon reconcile, two families begin wedding rehearsals. On day wedding, chaos reigns Banks home final preparations made reception. The wedding ceremony brings joy sorrow Stanley, realizes daughter now woman no longer child. During reception, Stanley tries find Kay can kiss bride manages see leaving honeymoon. Ellie Stanley survey mess home concur entire affair great success. Kay calls tells father loves thanks parents everything.[5]\n",
            "Testing Dataset Size:  11576\n",
            "Sample Training Data: pan number:xepp2049vlxq, full name:praveen  deivaprasad, father's name:deivaprasad, date birth:29-12-1996\n"
          ],
          "name": "stdout"
        }
      ]
    },
    {
      "cell_type": "code",
      "metadata": {
        "id": "Kt01OaiEMbQ9",
        "colab": {
          "base_uri": "https://localhost:8080/"
        },
        "outputId": "01003c71-09a6-438c-8e62-96434f0e6e67"
      },
      "source": [
        "tokenizer = Tokenizer(num_words=vocab_size, oov_token=oov_tok)\n",
        "tokenizer.fit_on_texts(training_sentences)\n",
        "\n",
        "word_index = tokenizer.word_index\n",
        "print(\"Size of word index:\", len(word_index))\n",
        "\n",
        "with open(\"word_index.json\", \"w\") as outfile:  \n",
        "    json.dump(word_index, outfile)\n",
        "    print(\"Saving the word index as JSON\")\n",
        "\n",
        "training_sequences = tokenizer.texts_to_sequences(training_sentences)\n",
        "training_padded = pad_sequences(training_sequences, maxlen=max_length, padding=padding_type, truncating=truncation_type)\n",
        "\n",
        "testing_sequences = tokenizer.texts_to_sequences(testing_sentences)\n",
        "testing_padded = pad_sequences(testing_sequences, maxlen=max_length, padding=padding_type, truncating=truncation_type)"
      ],
      "execution_count": 33,
      "outputs": [
        {
          "output_type": "stream",
          "text": [
            "Size of word index: 103146\n",
            "Saving the word index as JSON\n"
          ],
          "name": "stdout"
        }
      ]
    },
    {
      "cell_type": "code",
      "metadata": {
        "id": "SSHwIoCLPKPq"
      },
      "source": [
        "import numpy as np\n",
        "training_padded = np.array(training_padded)\n",
        "training_labels = np.array(training_labels)\n",
        "testing_padded = np.array(testing_padded)\n",
        "testing_labels = np.array(testing_labels)"
      ],
      "execution_count": 42,
      "outputs": []
    },
    {
      "cell_type": "code",
      "metadata": {
        "colab": {
          "base_uri": "https://localhost:8080/"
        },
        "id": "p5ADD9CuNFWB",
        "outputId": "8dc6b7d8-826e-4e02-d2af-9049faf188f5"
      },
      "source": [
        "DESIRED_ACCURACY = 0.999\n",
        "\n",
        "class myCallback(tf.keras.callbacks.Callback):\n",
        "  def on_epoch_end(self, epoch, logs={}):\n",
        "    if logs.get('accuracy') > DESIRED_ACCURACY:\n",
        "      print(\"Reached 99.9% accuracy so cancelling training!\")\n",
        "      self.model.stop_training = True\n",
        "\n",
        "callbacks = myCallback()\n",
        "\n",
        "model = tf.keras.Sequential([\n",
        "    tf.keras.layers.Embedding(vocab_size, embedding_dim, input_length=max_length),\n",
        "    tf.keras.layers.GlobalAveragePooling1D(),\n",
        "    tf.keras.layers.Dense(24, activation='relu'),\n",
        "    tf.keras.layers.Dense(1, activation='sigmoid')\n",
        "])\n",
        "model.compile(loss='binary_crossentropy',optimizer='adam',metrics=['accuracy'])\n",
        "\n",
        "model.summary()"
      ],
      "execution_count": 43,
      "outputs": [
        {
          "output_type": "stream",
          "text": [
            "Model: \"sequential_2\"\n",
            "_________________________________________________________________\n",
            "Layer (type)                 Output Shape              Param #   \n",
            "=================================================================\n",
            "embedding_2 (Embedding)      (None, 60, 32)            96000     \n",
            "_________________________________________________________________\n",
            "global_average_pooling1d_2 ( (None, 32)                0         \n",
            "_________________________________________________________________\n",
            "dense_4 (Dense)              (None, 24)                792       \n",
            "_________________________________________________________________\n",
            "dense_5 (Dense)              (None, 1)                 25        \n",
            "=================================================================\n",
            "Total params: 96,817\n",
            "Trainable params: 96,817\n",
            "Non-trainable params: 0\n",
            "_________________________________________________________________\n"
          ],
          "name": "stdout"
        }
      ]
    },
    {
      "cell_type": "code",
      "metadata": {
        "colab": {
          "base_uri": "https://localhost:8080/"
        },
        "id": "7TP5ThxvNPK8",
        "outputId": "1727a90b-8b69-4a86-9978-d5a8c307817f"
      },
      "source": [
        "num_epochs = 30\n",
        "history = model.fit(training_padded, \n",
        "                    training_labels, \n",
        "                    epochs=num_epochs, \n",
        "                    validation_data=(\n",
        "                        testing_padded, \n",
        "                        testing_labels), \n",
        "                    verbose=2)\n",
        "                    #callbacks=[callbacks])"
      ],
      "execution_count": 44,
      "outputs": [
        {
          "output_type": "stream",
          "text": [
            "Epoch 1/30\n",
            "625/625 - 2s - loss: 0.1252 - accuracy: 0.9770 - val_loss: 0.0172 - val_accuracy: 0.9945\n",
            "Epoch 2/30\n",
            "625/625 - 2s - loss: 0.0073 - accuracy: 0.9985 - val_loss: 0.0048 - val_accuracy: 0.9990\n",
            "Epoch 3/30\n",
            "625/625 - 2s - loss: 0.0026 - accuracy: 0.9999 - val_loss: 0.0028 - val_accuracy: 0.9995\n",
            "Epoch 4/30\n",
            "625/625 - 2s - loss: 0.0014 - accuracy: 0.9999 - val_loss: 0.0016 - val_accuracy: 0.9997\n",
            "Epoch 5/30\n",
            "625/625 - 2s - loss: 7.8615e-04 - accuracy: 0.9999 - val_loss: 0.0011 - val_accuracy: 0.9999\n",
            "Epoch 6/30\n",
            "625/625 - 2s - loss: 5.4023e-04 - accuracy: 0.9999 - val_loss: 9.7240e-04 - val_accuracy: 0.9997\n",
            "Epoch 7/30\n",
            "625/625 - 2s - loss: 3.2595e-04 - accuracy: 1.0000 - val_loss: 9.4021e-04 - val_accuracy: 0.9997\n",
            "Epoch 8/30\n",
            "625/625 - 2s - loss: 2.3305e-04 - accuracy: 0.9999 - val_loss: 5.9826e-04 - val_accuracy: 0.9999\n",
            "Epoch 9/30\n",
            "625/625 - 2s - loss: 1.4955e-04 - accuracy: 1.0000 - val_loss: 5.5796e-04 - val_accuracy: 0.9998\n",
            "Epoch 10/30\n",
            "625/625 - 2s - loss: 1.0652e-04 - accuracy: 1.0000 - val_loss: 3.6345e-04 - val_accuracy: 0.9999\n",
            "Epoch 11/30\n",
            "625/625 - 2s - loss: 6.6409e-05 - accuracy: 1.0000 - val_loss: 6.0215e-04 - val_accuracy: 0.9998\n",
            "Epoch 12/30\n",
            "625/625 - 2s - loss: 5.3679e-05 - accuracy: 1.0000 - val_loss: 6.3668e-04 - val_accuracy: 0.9998\n",
            "Epoch 13/30\n",
            "625/625 - 2s - loss: 3.5980e-05 - accuracy: 1.0000 - val_loss: 5.4399e-04 - val_accuracy: 0.9999\n",
            "Epoch 14/30\n",
            "625/625 - 2s - loss: 2.1356e-05 - accuracy: 1.0000 - val_loss: 5.7040e-04 - val_accuracy: 0.9999\n",
            "Epoch 15/30\n",
            "625/625 - 2s - loss: 1.2814e-05 - accuracy: 1.0000 - val_loss: 6.3114e-04 - val_accuracy: 0.9999\n",
            "Epoch 16/30\n",
            "625/625 - 2s - loss: 1.1529e-05 - accuracy: 1.0000 - val_loss: 6.6308e-04 - val_accuracy: 0.9999\n",
            "Epoch 17/30\n",
            "625/625 - 2s - loss: 8.9642e-06 - accuracy: 1.0000 - val_loss: 6.9480e-04 - val_accuracy: 0.9999\n",
            "Epoch 18/30\n",
            "625/625 - 2s - loss: 5.2529e-06 - accuracy: 1.0000 - val_loss: 6.6334e-04 - val_accuracy: 0.9999\n",
            "Epoch 19/30\n",
            "625/625 - 2s - loss: 3.6744e-06 - accuracy: 1.0000 - val_loss: 7.2403e-04 - val_accuracy: 0.9999\n",
            "Epoch 20/30\n",
            "625/625 - 2s - loss: 2.5434e-06 - accuracy: 1.0000 - val_loss: 8.3382e-04 - val_accuracy: 0.9999\n",
            "Epoch 21/30\n",
            "625/625 - 2s - loss: 2.1450e-06 - accuracy: 1.0000 - val_loss: 8.1955e-04 - val_accuracy: 0.9998\n",
            "Epoch 22/30\n",
            "625/625 - 2s - loss: 1.2557e-06 - accuracy: 1.0000 - val_loss: 9.1374e-04 - val_accuracy: 0.9998\n",
            "Epoch 23/30\n",
            "625/625 - 2s - loss: 1.0168e-06 - accuracy: 1.0000 - val_loss: 9.3105e-04 - val_accuracy: 0.9998\n",
            "Epoch 24/30\n",
            "625/625 - 2s - loss: 7.4828e-07 - accuracy: 1.0000 - val_loss: 9.5323e-04 - val_accuracy: 0.9998\n",
            "Epoch 25/30\n",
            "625/625 - 2s - loss: 5.3548e-07 - accuracy: 1.0000 - val_loss: 0.0010 - val_accuracy: 0.9998\n",
            "Epoch 26/30\n",
            "625/625 - 2s - loss: 3.3882e-07 - accuracy: 1.0000 - val_loss: 0.0010 - val_accuracy: 0.9998\n",
            "Epoch 27/30\n",
            "625/625 - 2s - loss: 3.2613e-07 - accuracy: 1.0000 - val_loss: 0.0011 - val_accuracy: 0.9998\n",
            "Epoch 28/30\n",
            "625/625 - 2s - loss: 2.2976e-07 - accuracy: 1.0000 - val_loss: 0.0011 - val_accuracy: 0.9998\n",
            "Epoch 29/30\n",
            "625/625 - 2s - loss: 1.3513e-07 - accuracy: 1.0000 - val_loss: 0.0011 - val_accuracy: 0.9998\n",
            "Epoch 30/30\n",
            "625/625 - 2s - loss: 1.0571e-07 - accuracy: 1.0000 - val_loss: 0.0012 - val_accuracy: 0.9998\n"
          ],
          "name": "stdout"
        }
      ]
    },
    {
      "cell_type": "code",
      "metadata": {
        "colab": {
          "base_uri": "https://localhost:8080/",
          "height": 541
        },
        "id": "WCDbITWsNWlI",
        "outputId": "764d44f8-81d5-4260-d63d-54b3c695434c"
      },
      "source": [
        "import matplotlib.pyplot as plt\n",
        "\n",
        "def plot_graphs(history, string):\n",
        "  plt.plot(history.history[string])\n",
        "  plt.plot(history.history['val_'+string])\n",
        "  plt.xlabel(\"Epochs\")\n",
        "  plt.ylabel(string)\n",
        "  plt.legend([string, 'val_'+string])\n",
        "  plt.show()\n",
        "  \n",
        "plot_graphs(history, \"accuracy\")\n",
        "plot_graphs(history, \"loss\")"
      ],
      "execution_count": 45,
      "outputs": [
        {
          "output_type": "display_data",
          "data": {
            "image/png": "[encoded data removed]",
            "text/plain": [
              "<Figure size 432x288 with 1 Axes>"
            ]
          },
          "metadata": {
            "tags": [],
            "needs_background": "light"
          }
        },
        {
          "output_type": "display_data",
          "data": {
            "image/png": "[encoded data removed]",
            "text/plain": [
              "<Figure size 432x288 with 1 Axes>"
            ]
          },
          "metadata": {
            "tags": [],
            "needs_background": "light"
          }
        }
      ]
    },
    {
      "cell_type": "code",
      "metadata": {
        "colab": {
          "base_uri": "https://localhost:8080/"
        },
        "id": "Kyfb-NtpNV7h",
        "outputId": "53de2426-d99c-4f2a-a853-38bfe3c4382a"
      },
      "source": [
        "sentence = [\"My credit card no is 124345346\", \"game of thrones season finale showing this sunday night\"]\n",
        "sequences = tokenizer.texts_to_sequences(sentence)\n",
        "padded = pad_sequences(sequences, maxlen=max_length, padding=padding_type, truncating=truncation_type)\n",
        "print(model.predict(padded))"
      ],
      "execution_count": 49,
      "outputs": [
        {
          "output_type": "stream",
          "text": [
            "[[0.97082067]\n",
            " [0.00190222]]\n"
          ],
          "name": "stdout"
        }
      ]
    },
    {
      "cell_type": "code",
      "metadata": {
        "colab": {
          "base_uri": "https://localhost:8080/"
        },
        "id": "F_rBTIVTQHow",
        "outputId": "1cd59be6-2731-42a3-fcf1-23bada9796ea"
      },
      "source": [
        "model.save('model/text_model.h5')\n",
        "print(\"Saved the model successfully\")\n",
        "\n",
        "!apt-get -qq install virtualenv\n",
        "!virtualenv -p python3 venv\n",
        "!source venv/bin/activate\n",
        "!pip install -q tensorflowjs\n",
        "!tensorflowjs_converter --input_format=keras /content/model/text_model.h5 /content/text_model\n",
        "print(\"Model converted to JSON successfully\")"
      ],
      "execution_count": 47,
      "outputs": [
        {
          "output_type": "stream",
          "text": [
            "Saved the model successfully\n",
            "Already using interpreter /usr/bin/python3\n",
            "Using base prefix '/usr'\n",
            "New python executable in /content/venv/bin/python3\n",
            "Not overwriting existing python script /content/venv/bin/python (you must use /content/venv/bin/python3)\n",
            "Installing setuptools, pkg_resources, pip, wheel...done.\n",
            "2021-03-20 19:18:35.786290: I tensorflow/stream_executor/platform/default/dso_loader.cc:49] Successfully opened dynamic library libcudart.so.11.0\n",
            "Model converted to JSON successfully\n"
          ],
          "name": "stdout"
        }
      ]
    }
  ]
}